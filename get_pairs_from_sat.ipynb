{
 "cells": [],
 "metadata": {},
 "nbformat": 4,
 "nbformat_minor": 5
}

import torch
from PIL import Image
import zipfile
import os
import numpy as np

# Create directories for the images if they don't exist
if not os.path.exists('dataset/input_images'):
    os.makedirs('dataset/input_images')
if not os.path.exists('dataset/output_images'):
    os.makedirs('dataset/output_images')

# Iterate over the dataset
for i in range(len(dataset)):

    print(dataset[i]['lr'][0].shape)
    lr_image = Image.fromarray((torch.clamp(make_grid(dataset[i]['lr'][0], normalize=True, scale_each=True, nrow=1), min=0, max=1).permute(1, 2, 0).numpy() * 255).astype(np.uint8))
    lr_image.save(f'dataset/input_images/image_{i}.png')

     # Convert the 'hr' tensor to a PIL image and save it
    hr_image = Image.fromarray((torch.clamp(dataset[i]['hr_pansharpened'][0], min=0, max=1).permute(1, 2, 0).numpy() * 255).astype(np.uint8))
    hr_image.save(f'dataset/output_images/image_{i}.png')
    # Convert the 'lr' tensor to a PIL image and save it

# Create zip files
with zipfile.ZipFile('dataset/input.zip', 'w') as zipf:
    for file in os.listdir('dataset/input_images'):
        zipf.write(os.path.join('dataset/input_images', file), arcname=file)

with zipfile.ZipFile('dataset/output.zip', 'w') as zipf:
    for file in os.listdir('dataset/output_images'):
        zipf.write(os.path.join('dataset/output_images', file), arcname=file)
