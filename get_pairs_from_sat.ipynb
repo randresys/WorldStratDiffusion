{
 "cells": [
  {
   "cell_type": "code",
   "execution_count": null,
   "id": "137e8cc0",
   "metadata": {},
   "outputs": [],
   "source": [
    "import torch\n",
    "from PIL import Image\n",
    "import zipfile\n",
    "import os\n",
    "import numpy as np\n",
    "\n",
    "# Create directories for the images if they don't exist\n",
    "if not os.path.exists('dataset/input_images'):\n",
    "    os.makedirs('dataset/input_images')\n",
    "if not os.path.exists('dataset/output_images'):\n",
    "    os.makedirs('dataset/output_images')\n",
    "\n",
    "# Iterate over the dataset\n",
    "for i in range(len(dataset)):\n",
    "\n",
    "    print(dataset[i]['lr'][0].shape)\n",
    "    lr_image = Image.fromarray((torch.clamp(make_grid(dataset[i]['lr'][0], normalize=True, scale_each=True, nrow=1), min=0, max=1).permute(1, 2, 0).numpy() * 255).astype(np.uint8))\n",
    "    lr_image.save(f'dataset/input_images/image_{i}.png')\n",
    "\n",
    "     # Convert the 'hr' tensor to a PIL image and save it\n",
    "    hr_image = Image.fromarray((torch.clamp(dataset[i]['hr_pansharpened'][0], min=0, max=1).permute(1, 2, 0).numpy() * 255).astype(np.uint8))\n",
    "    hr_image.save(f'dataset/output_images/image_{i}.png')\n",
    "    # Convert the 'lr' tensor to a PIL image and save it\n",
    "\n",
    "# Create zip files\n",
    "with zipfile.ZipFile('dataset/input.zip', 'w') as zipf:\n",
    "    for file in os.listdir('dataset/input_images'):\n",
    "        zipf.write(os.path.join('dataset/input_images', file), arcname=file)\n",
    "\n",
    "with zipfile.ZipFile('dataset/output.zip', 'w') as zipf:\n",
    "    for file in os.listdir('dataset/output_images'):\n",
    "        zipf.write(os.path.join('dataset/output_images', file), arcname=file)\n"
   ]
  }
 ],
 "metadata": {
  "kernelspec": {
   "display_name": "Python 3 (ipykernel)",
   "language": "python",
   "name": "python3"
  },
  "language_info": {
   "codemirror_mode": {
    "name": "ipython",
    "version": 3
   },
   "file_extension": ".py",
   "mimetype": "text/x-python",
   "name": "python",
   "nbconvert_exporter": "python",
   "pygments_lexer": "ipython3",
   "version": "3.7.11"
  }
 },
 "nbformat": 4,
 "nbformat_minor": 5
}
